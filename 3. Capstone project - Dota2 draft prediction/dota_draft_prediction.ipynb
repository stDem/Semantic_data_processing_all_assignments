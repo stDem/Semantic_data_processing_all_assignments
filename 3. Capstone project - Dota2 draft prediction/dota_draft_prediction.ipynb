{
 "cells": [
  {
   "cell_type": "markdown",
   "metadata": {},
   "source": [
    "Each row of the dataset is a single game with the following features (in the order in the vector):\n",
    "\n",
    "- Team won the game (1 or -1)\n",
    "- Cluster ID (related to location)\n",
    "- Game mode (eg All Pick)\n",
    "- Game type (eg. Ranked)\n",
    "- till end: Each element is an indicator for a hero.\n",
    "Value of 1 indicates that a player from team '1' played as that hero and '-1' for the other team.\n",
    "Hero can be selected by only one player each game. This means that each row has five '1' and five '-1' values."
   ]
  },
  {
   "cell_type": "markdown",
   "metadata": {},
   "source": [
    "We don't need these columns in futher development, so we dropped them:\n",
    "- Cluster ID – represents the region of the game.\n",
    "- Game mode – indicates the mode (e.g., All Pick, Captains Mode).\n",
    "- Game type – ranked or unranked.\n"
   ]
  },
  {
   "cell_type": "code",
   "execution_count": 2,
   "metadata": {},
   "outputs": [
    {
     "name": "stderr",
     "output_type": "stream",
     "text": [
      "e:\\Python312\\Lib\\site-packages\\tqdm\\auto.py:21: TqdmWarning: IProgress not found. Please update jupyter and ipywidgets. See https://ipywidgets.readthedocs.io/en/stable/user_install.html\n",
      "  from .autonotebook import tqdm as notebook_tqdm\n"
     ]
    }
   ],
   "source": [
    "import xgboost as xgb\n",
    "import pandas as pd\n",
    "import numpy as np\n",
    "import joblib\n",
    "from sklearn.preprocessing import LabelEncoder\n",
    "import joblib\n",
    "from tabulate import tabulate\n",
    "import json\n",
    "from transformers import pipeline"
   ]
  },
  {
   "cell_type": "code",
   "execution_count": 3,
   "metadata": {},
   "outputs": [
    {
     "name": "stdout",
     "output_type": "stream",
     "text": [
      "\n",
      "===== Dota 2 Training Dataset Overview =====\n",
      "\n",
      "╒════╤══════════╤═════════════╤═══════╤════════╤═══════════════╤══════════════════╤═══════════════╤═══════════════╤══════════════╤══════════╤═════════════╤════════════════╤══════════════════╤════════╤═════════╤═════════╤═════════════╤════════════════╤════════╤════════╤═══════════════════╤══════════════╤════════╤══════════╤═══════════════════╤════════╤════════╤═════════════════╤═══════════╤══════════════╤════════════════╤════════╤════════╤══════════╤══════════╤══════════╤═════════════╤═══════════╤═══════════════╤═════════════════╤══════════════╤═════════════════╤═════════════════╤═════════════════╤════════════════════╤═════════╤════════════════════╤═════════╤════════╤═════════════════╤══════════╤═════════════╤═══════════╤════════════════════╤═══════════════╤═════════════╤══════════╤══════════════╤═══════════════╤══════════╤═════════════════╤═══════════════╤═════════════════╤══════════╤══════════╤════════════╤════════╤═══════════╤══════════════════════╤════════╤════════╤══════════════════╤══════════════╤═════════════╤═══════════╤════════════╤═════════════════════╤═══════════════╤══════════════╤════════════════╤══════════════╤════════════════╤═════════╤════════════════════╤═════════════╤═══════════╤══════════╤═════════════╤════════════════╤══════════════╤═══════════════════════╤════════╤══════════╤═════════╤══════════╤═════════════════╤═════════════════════╤══════════╤═════════════╤═══════════════╤════════╤═════════════════╤═══════════╤═══════════════╤════════════════════╤═══════════╤════════════════╤════════════════╤═════════════════════╤═══════════════╤═══════════╤══════════╤═════════════════╤══════════════╕\n",
      "│    │   winner │   Anti-Mage │   Axe │   Bane │   Bloodseeker │   Crystal Maiden │   Drow Ranger │   Earthshaker │   Juggernaut │   Mirana │   Morphling │   Shadow Fiend │   Phantom Lancer │   Puck │   Pudge │   Razor │   Sand King │   Storm Spirit │   Sven │   Tiny │   Vengeful Spirit │   Windranger │   Zeus │   Kunkka │   Unknown_Hero_24 │   Lina │   Lion │   Shadow Shaman │   Slardar │   Tidehunter │   Witch Doctor │   Lich │   Riki │   Enigma │   Tinker │   Sniper │   Necrophos │   Warlock │   Beastmaster │   Queen of Pain │   Venomancer │   Faceless Void │   Skeleton King │   Death Prophet │   Phantom Assassin │   Pugna │   Templar Assassin │   Viper │   Luna │   Dragon Knight │   Dazzle │   Clockwerk │   Leshrac │   Nature's Prophet │   Lifestealer │   Dark Seer │   Clinkz │   Omniknight │   Enchantress │   Huskar │   Night Stalker │   Broodmother │   Bounty Hunter │   Weaver │   Jakiro │   Batrider │   Chen │   Spectre │   Ancient Apparition │   Doom │   Ursa │   Spirit Breaker │   Gyrocopter │   Alchemist │   Invoker │   Silencer │   Outworld Devourer │   Lycanthrope │   Brewmaster │   Shadow Demon │   Lone Druid │   Chaos Knight │   Meepo │   Treant Protector │   Ogre Magi │   Undying │   Rubick │   Disruptor │   Nyx Assassin │   Naga Siren │   Keeper of the Light │   Wisp │   Visage │   Slark │   Medusa │   Troll Warlord │   Centaur Warrunner │   Magnus │   Timbersaw │   Bristleback │   Tusk │   Skywrath Mage │   Abaddon │   Elder Titan │   Legion Commander │   Techies │   Ember Spirit │   Earth Spirit │   Abyssal Underlord │   Terrorblade │   Phoenix │   Oracle │   Winter Wyvern │   Arc Warden │\n",
      "╞════╪══════════╪═════════════╪═══════╪════════╪═══════════════╪══════════════════╪═══════════════╪═══════════════╪══════════════╪══════════╪═════════════╪════════════════╪══════════════════╪════════╪═════════╪═════════╪═════════════╪════════════════╪════════╪════════╪═══════════════════╪══════════════╪════════╪══════════╪═══════════════════╪════════╪════════╪═════════════════╪═══════════╪══════════════╪════════════════╪════════╪════════╪══════════╪══════════╪══════════╪═════════════╪═══════════╪═══════════════╪═════════════════╪══════════════╪═════════════════╪═════════════════╪═════════════════╪════════════════════╪═════════╪════════════════════╪═════════╪════════╪═════════════════╪══════════╪═════════════╪═══════════╪════════════════════╪═══════════════╪═════════════╪══════════╪══════════════╪═══════════════╪══════════╪═════════════════╪═══════════════╪═════════════════╪══════════╪══════════╪════════════╪════════╪═══════════╪══════════════════════╪════════╪════════╪══════════════════╪══════════════╪═════════════╪═══════════╪════════════╪═════════════════════╪═══════════════╪══════════════╪════════════════╪══════════════╪════════════════╪═════════╪════════════════════╪═════════════╪═══════════╪══════════╪═════════════╪════════════════╪══════════════╪═══════════════════════╪════════╪══════════╪═════════╪══════════╪═════════════════╪═════════════════════╪══════════╪═════════════╪═══════════════╪════════╪═════════════════╪═══════════╪═══════════════╪════════════════════╪═══════════╪════════════════╪════════════════╪═════════════════════╪═══════════════╪═══════════╪══════════╪═════════════════╪══════════════╡\n",
      "│  0 │        1 │           0 │     0 │      0 │             1 │                0 │            -1 │             0 │            0 │        0 │           0 │              0 │                0 │      0 │       1 │       0 │           0 │              0 │      0 │      0 │                 0 │           -1 │      0 │        0 │                 0 │      0 │      1 │               1 │         0 │            0 │              0 │      0 │      0 │        0 │        0 │       -1 │           0 │         0 │             0 │               0 │            0 │               0 │               0 │               0 │                  0 │       0 │                  0 │       0 │      0 │               0 │        0 │           0 │         0 │                  0 │             0 │           0 │        0 │            0 │             0 │        0 │               0 │             0 │               0 │        0 │        0 │          0 │      0 │         0 │                    0 │      0 │      0 │                1 │            0 │           0 │         0 │          0 │                   0 │             0 │            0 │              0 │            0 │              0 │       0 │                  0 │           0 │         0 │        0 │           0 │              0 │            0 │                     0 │      0 │        0 │      -1 │        0 │               0 │                   0 │        0 │          -1 │             0 │      0 │               0 │         0 │             0 │                  0 │         0 │              0 │              0 │                   0 │             0 │         0 │        0 │               0 │            0 │\n",
      "├────┼──────────┼─────────────┼───────┼────────┼───────────────┼──────────────────┼───────────────┼───────────────┼──────────────┼──────────┼─────────────┼────────────────┼──────────────────┼────────┼─────────┼─────────┼─────────────┼────────────────┼────────┼────────┼───────────────────┼──────────────┼────────┼──────────┼───────────────────┼────────┼────────┼─────────────────┼───────────┼──────────────┼────────────────┼────────┼────────┼──────────┼──────────┼──────────┼─────────────┼───────────┼───────────────┼─────────────────┼──────────────┼─────────────────┼─────────────────┼─────────────────┼────────────────────┼─────────┼────────────────────┼─────────┼────────┼─────────────────┼──────────┼─────────────┼───────────┼────────────────────┼───────────────┼─────────────┼──────────┼──────────────┼───────────────┼──────────┼─────────────────┼───────────────┼─────────────────┼──────────┼──────────┼────────────┼────────┼───────────┼──────────────────────┼────────┼────────┼──────────────────┼──────────────┼─────────────┼───────────┼────────────┼─────────────────────┼───────────────┼──────────────┼────────────────┼──────────────┼────────────────┼─────────┼────────────────────┼─────────────┼───────────┼──────────┼─────────────┼────────────────┼──────────────┼───────────────────────┼────────┼──────────┼─────────┼──────────┼─────────────────┼─────────────────────┼──────────┼─────────────┼───────────────┼────────┼─────────────────┼───────────┼───────────────┼────────────────────┼───────────┼────────────────┼────────────────┼─────────────────────┼───────────────┼───────────┼──────────┼─────────────────┼──────────────┤\n",
      "│  1 │        1 │           0 │     0 │      0 │             1 │                0 │            -1 │             0 │            0 │        0 │           0 │              0 │                0 │      0 │       0 │       0 │           0 │              0 │      0 │      0 │                -1 │            0 │      1 │        0 │                 0 │      1 │      0 │               0 │         0 │            0 │              0 │      0 │      1 │        0 │        0 │        0 │           0 │         0 │             0 │               0 │            0 │               0 │               0 │               0 │                  0 │       0 │                 -1 │       0 │      0 │               0 │        0 │           0 │         0 │                  0 │             0 │           0 │        0 │            0 │             0 │        1 │               0 │             0 │               0 │        0 │        0 │          0 │      0 │         0 │                    0 │      0 │      0 │                0 │           -1 │           0 │         0 │          0 │                   0 │             0 │            0 │              0 │            0 │              0 │       0 │                  0 │           0 │         0 │        0 │           0 │              0 │            0 │                     0 │      0 │        0 │      -1 │        0 │               0 │                   0 │        0 │           0 │             0 │      0 │               0 │         0 │             0 │                  0 │         0 │              0 │              0 │                   0 │             0 │         0 │        0 │               0 │            0 │\n",
      "├────┼──────────┼─────────────┼───────┼────────┼───────────────┼──────────────────┼───────────────┼───────────────┼──────────────┼──────────┼─────────────┼────────────────┼──────────────────┼────────┼─────────┼─────────┼─────────────┼────────────────┼────────┼────────┼───────────────────┼──────────────┼────────┼──────────┼───────────────────┼────────┼────────┼─────────────────┼───────────┼──────────────┼────────────────┼────────┼────────┼──────────┼──────────┼──────────┼─────────────┼───────────┼───────────────┼─────────────────┼──────────────┼─────────────────┼─────────────────┼─────────────────┼────────────────────┼─────────┼────────────────────┼─────────┼────────┼─────────────────┼──────────┼─────────────┼───────────┼────────────────────┼───────────────┼─────────────┼──────────┼──────────────┼───────────────┼──────────┼─────────────────┼───────────────┼─────────────────┼──────────┼──────────┼────────────┼────────┼───────────┼──────────────────────┼────────┼────────┼──────────────────┼──────────────┼─────────────┼───────────┼────────────┼─────────────────────┼───────────────┼──────────────┼────────────────┼──────────────┼────────────────┼─────────┼────────────────────┼─────────────┼───────────┼──────────┼─────────────┼────────────────┼──────────────┼───────────────────────┼────────┼──────────┼─────────┼──────────┼─────────────────┼─────────────────────┼──────────┼─────────────┼───────────────┼────────┼─────────────────┼───────────┼───────────────┼────────────────────┼───────────┼────────────────┼────────────────┼─────────────────────┼───────────────┼───────────┼──────────┼─────────────────┼──────────────┤\n",
      "│  2 │        1 │           0 │     0 │      0 │             0 │                0 │             0 │            -1 │            0 │        0 │           0 │              0 │                0 │      0 │       0 │       0 │           0 │              1 │      0 │      0 │                 0 │            0 │      0 │       -1 │                 0 │      0 │      0 │               0 │         0 │            0 │              0 │      0 │      0 │        0 │        0 │        1 │           0 │         0 │             0 │               0 │            0 │               0 │              -1 │               0 │                  0 │       0 │                  0 │      -1 │      0 │               0 │        0 │           0 │         0 │                  0 │             1 │           0 │        0 │            0 │             0 │        0 │               0 │             0 │               1 │        0 │        0 │          0 │      0 │         0 │                    0 │      0 │      0 │                0 │            0 │           0 │         0 │          0 │                   0 │             0 │            0 │              0 │            0 │              0 │       0 │                  0 │           0 │         0 │        0 │           0 │              0 │            0 │                     0 │      0 │        0 │       0 │        0 │               1 │                   0 │        0 │           0 │             0 │      0 │               0 │         0 │             0 │                 -1 │         0 │              0 │              0 │                   0 │             0 │         0 │        0 │               0 │            0 │\n",
      "├────┼──────────┼─────────────┼───────┼────────┼───────────────┼──────────────────┼───────────────┼───────────────┼──────────────┼──────────┼─────────────┼────────────────┼──────────────────┼────────┼─────────┼─────────┼─────────────┼────────────────┼────────┼────────┼───────────────────┼──────────────┼────────┼──────────┼───────────────────┼────────┼────────┼─────────────────┼───────────┼──────────────┼────────────────┼────────┼────────┼──────────┼──────────┼──────────┼─────────────┼───────────┼───────────────┼─────────────────┼──────────────┼─────────────────┼─────────────────┼─────────────────┼────────────────────┼─────────┼────────────────────┼─────────┼────────┼─────────────────┼──────────┼─────────────┼───────────┼────────────────────┼───────────────┼─────────────┼──────────┼──────────────┼───────────────┼──────────┼─────────────────┼───────────────┼─────────────────┼──────────┼──────────┼────────────┼────────┼───────────┼──────────────────────┼────────┼────────┼──────────────────┼──────────────┼─────────────┼───────────┼────────────┼─────────────────────┼───────────────┼──────────────┼────────────────┼──────────────┼────────────────┼─────────┼────────────────────┼─────────────┼───────────┼──────────┼─────────────┼────────────────┼──────────────┼───────────────────────┼────────┼──────────┼─────────┼──────────┼─────────────────┼─────────────────────┼──────────┼─────────────┼───────────────┼────────┼─────────────────┼───────────┼───────────────┼────────────────────┼───────────┼────────────────┼────────────────┼─────────────────────┼───────────────┼───────────┼──────────┼─────────────────┼──────────────┤\n",
      "│  3 │       -1 │           0 │     0 │      0 │             0 │                0 │            -1 │             0 │            0 │       -1 │           0 │             -1 │                0 │      0 │       0 │       0 │           1 │              0 │      0 │      0 │                 0 │            0 │      0 │        0 │                 0 │      0 │      0 │               0 │         0 │           -1 │              0 │      1 │      0 │        0 │        0 │        0 │           1 │         0 │             0 │               0 │            0 │               0 │               0 │               0 │                  1 │       0 │                  0 │       0 │      0 │               0 │        0 │           0 │         0 │                  0 │             0 │           0 │        0 │            0 │             0 │        0 │               0 │             0 │               0 │        0 │        0 │          0 │      0 │         0 │                    0 │      0 │      0 │                0 │            0 │           1 │         0 │          0 │                   0 │             0 │            0 │              0 │            0 │              0 │       0 │                  0 │           0 │         0 │       -1 │           0 │              0 │            0 │                     0 │      0 │        0 │       0 │        0 │               0 │                   0 │        0 │           0 │             0 │      0 │               0 │         0 │             0 │                  0 │         0 │              0 │              0 │                   0 │             0 │         0 │        0 │               0 │            0 │\n",
      "├────┼──────────┼─────────────┼───────┼────────┼───────────────┼──────────────────┼───────────────┼───────────────┼──────────────┼──────────┼─────────────┼────────────────┼──────────────────┼────────┼─────────┼─────────┼─────────────┼────────────────┼────────┼────────┼───────────────────┼──────────────┼────────┼──────────┼───────────────────┼────────┼────────┼─────────────────┼───────────┼──────────────┼────────────────┼────────┼────────┼──────────┼──────────┼──────────┼─────────────┼───────────┼───────────────┼─────────────────┼──────────────┼─────────────────┼─────────────────┼─────────────────┼────────────────────┼─────────┼────────────────────┼─────────┼────────┼─────────────────┼──────────┼─────────────┼───────────┼────────────────────┼───────────────┼─────────────┼──────────┼──────────────┼───────────────┼──────────┼─────────────────┼───────────────┼─────────────────┼──────────┼──────────┼────────────┼────────┼───────────┼──────────────────────┼────────┼────────┼──────────────────┼──────────────┼─────────────┼───────────┼────────────┼─────────────────────┼───────────────┼──────────────┼────────────────┼──────────────┼────────────────┼─────────┼────────────────────┼─────────────┼───────────┼──────────┼─────────────┼────────────────┼──────────────┼───────────────────────┼────────┼──────────┼─────────┼──────────┼─────────────────┼─────────────────────┼──────────┼─────────────┼───────────────┼────────┼─────────────────┼───────────┼───────────────┼────────────────────┼───────────┼────────────────┼────────────────┼─────────────────────┼───────────────┼───────────┼──────────┼─────────────────┼──────────────┤\n",
      "│  4 │        1 │           0 │     1 │      0 │             0 │                0 │             0 │             0 │            0 │        0 │           0 │              0 │               -1 │      0 │       0 │       0 │           0 │              0 │      0 │      0 │                 0 │            0 │      0 │        0 │                 0 │      0 │      0 │               0 │        -1 │            0 │              0 │      0 │      0 │        0 │        0 │        0 │           0 │         0 │             0 │               0 │            0 │               0 │               0 │               0 │                  0 │       0 │                  0 │       0 │      0 │               0 │        0 │           0 │         0 │                  0 │             0 │          -1 │        0 │            1 │             0 │        0 │               0 │             0 │               0 │        1 │        0 │          0 │      0 │         0 │                    0 │      0 │     -1 │                0 │            0 │           0 │         1 │          0 │                   0 │             0 │            0 │              0 │            0 │              0 │       0 │                  0 │           0 │         0 │        0 │           0 │              0 │            0 │                     0 │      0 │        0 │       0 │        0 │               0 │                   0 │        0 │           0 │             0 │      0 │               0 │         0 │             0 │                  1 │         0 │              0 │              0 │                   0 │             0 │         0 │        0 │               0 │           -1 │\n",
      "╘════╧══════════╧═════════════╧═══════╧════════╧═══════════════╧══════════════════╧═══════════════╧═══════════════╧══════════════╧══════════╧═════════════╧════════════════╧══════════════════╧════════╧═════════╧═════════╧═════════════╧════════════════╧════════╧════════╧═══════════════════╧══════════════╧════════╧══════════╧═══════════════════╧════════╧════════╧═════════════════╧═══════════╧══════════════╧════════════════╧════════╧════════╧══════════╧══════════╧══════════╧═════════════╧═══════════╧═══════════════╧═════════════════╧══════════════╧═════════════════╧═════════════════╧═════════════════╧════════════════════╧═════════╧════════════════════╧═════════╧════════╧═════════════════╧══════════╧═════════════╧═══════════╧════════════════════╧═══════════════╧═════════════╧══════════╧══════════════╧═══════════════╧══════════╧═════════════════╧═══════════════╧═════════════════╧══════════╧══════════╧════════════╧════════╧═══════════╧══════════════════════╧════════╧════════╧══════════════════╧══════════════╧═════════════╧═══════════╧════════════╧═════════════════════╧═══════════════╧══════════════╧════════════════╧══════════════╧════════════════╧═════════╧════════════════════╧═════════════╧═══════════╧══════════╧═════════════╧════════════════╧══════════════╧═══════════════════════╧════════╧══════════╧═════════╧══════════╧═════════════════╧═════════════════════╧══════════╧═════════════╧═══════════════╧════════╧═════════════════╧═══════════╧═══════════════╧════════════════════╧═══════════╧════════════════╧════════════════╧═════════════════════╧═══════════════╧═══════════╧══════════╧═════════════════╧══════════════╛\n"
     ]
    }
   ],
   "source": [
    "# download and show all datasets\n",
    "with open(\"./heroes.json\", \"r\") as f:\n",
    "    hero_data = json.load(f)\n",
    "    hero_id_to_name = {str(hero[\"id\"]): hero[\"localized_name\"] for hero in hero_data[\"heroes\"]}\n",
    "    \n",
    "with open(\"./heroes_skills.json\", \"r\", encoding=\"utf-8\") as f:\n",
    "    heroes_skills_data = json.load(f)\n",
    "    hero_tag_to_info = {hero[\"tag\"]: hero for hero in heroes_skills_data}\n",
    "\n",
    "\n",
    "train_dataset_path = \"./dota2Train.csv\"\n",
    "df_train = pd.read_csv(train_dataset_path)\n",
    "\n",
    "# test_dataset_path = \"./dota2Test.csv\"\n",
    "# df_test = pd.read_csv(test_dataset_path)\n",
    "\n",
    "\n",
    "non_hero_columns = ['winner', 'cluster_id', 'game_mode', 'game_type']\n",
    "num_heroes = df_train.shape[1] - len(non_hero_columns)\n",
    "hero_ids = list(range(1, num_heroes + 1))\n",
    "hero_names = [hero_id_to_name.get(str(hero_id), f\"Unknown_Hero_{hero_id}\") for hero_id in hero_ids]\n",
    "hero_columns = [f'hero_{i}' for i in range(num_heroes)]\n",
    "\n",
    "df_train.columns = non_hero_columns + hero_names\n",
    "df_train = df_train.drop(columns=['cluster_id', 'game_mode', 'game_type'])\n",
    "\n",
    "# df_test.columns = non_hero_columns + hero_names\n",
    "# df_test = df_test.drop(columns=['cluster_id', 'game_mode', 'game_type'])\n",
    "\n",
    "\n",
    "\n",
    "print(\"\\n===== Dota 2 Training Dataset Overview =====\\n\")\n",
    "print(tabulate(df_train.head(), headers='keys', tablefmt='fancy_grid'))"
   ]
  },
  {
   "cell_type": "code",
   "execution_count": 3,
   "metadata": {},
   "outputs": [
    {
     "name": "stdout",
     "output_type": "stream",
     "text": [
      "Model training completed and saved!\n"
     ]
    }
   ],
   "source": [
    "def filter_valid_drafts(df):\n",
    "    team_1_heroes = df.iloc[:, 1:].apply(lambda row: (row == 1).sum(), axis=1)\n",
    "    team_2_heroes = df.iloc[:, 1:].apply(lambda row: (row == -1).sum(), axis=1)\n",
    "    return df[(team_1_heroes == 5) & (team_2_heroes == 5)]\n",
    "\n",
    "df = filter_valid_drafts(df_train)\n",
    "\n",
    "\n",
    "draft_samples = []\n",
    "labels = []\n",
    "\n",
    "for _, row in df.iterrows():\n",
    "    ally_picks = []\n",
    "    enemy_picks = []\n",
    "\n",
    "    for hero in hero_names:\n",
    "        if row[hero] == 1:\n",
    "            ally_picks.append(hero)\n",
    "        elif row[hero] == -1:\n",
    "            enemy_picks.append(hero)\n",
    "\n",
    "    for i in range(len(ally_picks)):  # create different draft states\n",
    "        current_state = {hero: 0 for hero in hero_names}\n",
    "        for picked_hero in ally_picks[:i]:\n",
    "            current_state[picked_hero] = 1\n",
    "        for picked_hero in enemy_picks:\n",
    "            current_state[picked_hero] = -1\n",
    "        draft_samples.append(list(current_state.values()))\n",
    "        labels.append(hero_names.index(ally_picks[i]))  # next hero to pick\n",
    "\n",
    "\n",
    "X = pd.DataFrame(draft_samples, columns=hero_names)\n",
    "y = np.array(labels)\n",
    "\n",
    "label_encoder = LabelEncoder()\n",
    "y = label_encoder.fit_transform(y)\n",
    "\n",
    "# train XGBoost model\n",
    "model = xgb.XGBClassifier(\n",
    "    objective='multi:softprob',\n",
    "    num_class=len(label_encoder.classes_),\n",
    "    eval_metric='mlogloss',\n",
    "    tree_method=\"hist\"  # Faster training\n",
    ")\n",
    "model.fit(X, y)\n",
    "\n",
    "joblib.dump(model, \"xgboost_dota_draft_model.pkl\")\n",
    "joblib.dump(label_encoder, \"label_encoder.pkl\")\n",
    "print(\"Model training completed and saved!\")"
   ]
  },
  {
   "cell_type": "code",
   "execution_count": 7,
   "metadata": {},
   "outputs": [
    {
     "name": "stderr",
     "output_type": "stream",
     "text": [
      "Device set to use cuda:0\n"
     ]
    }
   ],
   "source": [
    "# loading\n",
    "model = joblib.load(\"xgboost_dota_draft_model.pkl\")\n",
    "label_encoder = joblib.load(\"label_encoder.pkl\")\n",
    "\n",
    "# df_test = filter_valid_drafts(df_test)\n",
    "# X_test = df_test.drop(columns=['winner'])\n",
    "# y_test = df_test['winner']\n",
    "# y_pred_encoded = model.predict(X_test)\n",
    "# y_pred = label_encoder.inverse_transform(y_pred_encoded)\n",
    "\n",
    "# # accuracy eval\n",
    "# correct_predictions = (y_pred == y_test).sum()\n",
    "# total_predictions = len(y_test)\n",
    "# accuracy = correct_predictions / total_predictions if total_predictions > 0 else 0\n",
    "\n",
    "# print(f\"Model Accuracy on Test Data: {accuracy:.4f}\")\n",
    "\n",
    "text_generator = pipeline(\"text-generation\", model=\"gpt2\")\n",
    "\n",
    "def generate_hero_explanation(hero_name, ally_picks, enemy_picks):\n",
    "    \"\"\"\n",
    "    Uses NLP to generate a custom explanation for why this hero is good for the draft.\n",
    "    \"\"\"\n",
    "    hero_info = next((hero for hero in heroes_skills_data if hero[\"name\"] == hero_name or hero[\"tag\"] == hero_name.lower().replace(\" \", \"_\")), None)\n",
    "    \n",
    "    if not hero_info:\n",
    "        return f\"ℹ️ No details available for {hero_name}.\"\n",
    "    \n",
    "    # getting hero details\n",
    "    hype = hero_info.get(\"hype\", \"No hype description available.\")\n",
    "    abilities = \", \".join([ability[\"name\"] for ability in hero_info.get(\"abilities\", [])])\n",
    "    role = hero_info.get(\"attributes\", {}).get(\"Role\", \"Unknown Role\")\n",
    "\n",
    "    # identify synergy heroes\n",
    "    ally_names = [hero_id_to_name.get(str(h), h) for h in ally_picks]\n",
    "    enemy_names = [hero_id_to_name.get(str(h), h) for h in enemy_picks]\n",
    "\n",
    "    # construct an NLP prompt\n",
    "    prompt = (\n",
    "        f\"Hero: {hero_name} in Dota 2\\n\"\n",
    "        f\"Abilities: {abilities}\\n\"\n",
    "        f\"Role: {role}\\n\"\n",
    "        # f\"Ally Heroes: {', '.join(ally_names)}\\n\"\n",
    "        # f\"Enemy Heroes: {', '.join(enemy_names)}\\n\"\n",
    "        f\"Why is {hero_name} a good here in Dota 2 game if your team has {', '.join(ally_names)} and enemy's team has {', '.join(enemy_names)}?\"\n",
    "    )\n",
    "\n",
    "    # use NLP model to generate explanation\n",
    "    explanation = text_generator(prompt, max_length=200, num_return_sequences=1, pad_token_id=50256)[0][\"generated_text\"]\n",
    "\n",
    "    return f\"🌟 **{hero_name}**: {hype}\\n🛠 **Abilities**: {abilities}\\n🎭 **Role**: {role}\\n📝 **Why this pick?**: {explanation}\"\n",
    "  \n",
    "def recommend_next_heroes(current_picks, enemy_picks, top_n=3):\n",
    "    \"\"\"\n",
    "    Given the current draft state (ally picks) and enemy picks,\n",
    "    predict the best next heroes considering counter picks.\n",
    "    \"\"\"\n",
    "    if len(current_picks) >= 5:\n",
    "        return \"Draft complete: No more heroes can be picked.\"\n",
    "\n",
    "    draft_state = {hero: 0 for hero in hero_names}\n",
    "    for hero in current_picks:\n",
    "        if hero in draft_state:\n",
    "            draft_state[hero] = 1\n",
    "    for hero in enemy_picks:\n",
    "        if hero in draft_state:\n",
    "            draft_state[hero] = -1\n",
    "    \n",
    "    draft_array = np.array([list(draft_state.values())])\n",
    "    hero_probs = model.predict_proba(draft_array)[0]\n",
    "    sorted_heroes = np.argsort(hero_probs)[::-1]  # sort heroes by probability\n",
    "    \n",
    "    recommended_heroes = []\n",
    "    explanations = []\n",
    "    \n",
    "    for recommended_hero in sorted_heroes:\n",
    "        real_hero = label_encoder.inverse_transform([recommended_hero])[0]\n",
    "        real_hero_name = hero_id_to_name.get(str(real_hero), f\"Unknown_Hero_{real_hero}\")\n",
    "        if real_hero_name not in current_picks and real_hero_name not in enemy_picks:\n",
    "            recommended_heroes.append(real_hero_name)\n",
    "            explanations.append(generate_hero_explanation(real_hero_name, current_picks, enemy_picks))\n",
    "            if len(recommended_heroes) == top_n:\n",
    "                break\n",
    "    \n",
    "    return f\"🛡 **Recommended Heroes**: {', '.join(recommended_heroes)}\\n\\n\" + \"\\n\\n\".join(explanations)\n",
    "\n",
    "\n",
    "\n"
   ]
  },
  {
   "cell_type": "code",
   "execution_count": 12,
   "metadata": {},
   "outputs": [
    {
     "name": "stdout",
     "output_type": "stream",
     "text": [
      "🔥 Testing Hero Recommendation with Ally and Enemy Picks...\n",
      "✅ Ally Picks: ['Axe', 'Dazzle']\n",
      "❌ Enemy Picks: ['Pudge', 'Crystal Maiden']\n"
     ]
    },
    {
     "name": "stderr",
     "output_type": "stream",
     "text": [
      "You seem to be using the pipelines sequentially on GPU. In order to maximize efficiency please use a dataset\n"
     ]
    },
    {
     "name": "stdout",
     "output_type": "stream",
     "text": [
      "🛡 **Recommended Heroes**: Juggernaut, Enchantress, Earthshaker\n",
      "\n",
      "🌟 **Juggernaut**: In a flurry of slashes, Juggernaut cuts down his foes. Sprinting and spinning into battle with reckless abandon, and nearly invincible once he is able to begin his assault, stopping Juggernaut can often be just as difficult as surviving him.\n",
      "🛠 **Abilities**: Blade Fury, Healing Ward, Blade Dance, Omnislash\n",
      "🎭 **Role**: Carry,Pusher,Escape\n",
      "📝 **Why this pick?**: Hero: Juggernaut in Dota 2\n",
      "Abilities: Blade Fury, Healing Ward, Blade Dance, Omnislash\n",
      "Role: Carry,Pusher,Escape\n",
      "Why is Juggernaut a good here in Dota 2 game if your team has Axe, Dazzle and enemy's team has Pudge, Crystal Maiden? This guide focuses just on the abilities that Juggernaut has, so you're not surprised when you learn the combos he gets through your fights, but just to learn how to get the most out of your team's abilities, you need to be ready to be in a close fight on the map if there's no one to backstab. All while practicing your passive, dodging damage, avoiding attacks from teammates and getting the most out of your team. If possible, be prepared to focus on all four skills of Juggernaut first and then try to build up some more team utility and damage before you go on in on your poke, as the skills you will be able to use on\n",
      "\n",
      "🌟 **Enchantress**: Harmful up close and lethal at a distance, Enchantress skewers foes with attacks imbued to become more damaging the further they fly. Whether inflicting powerful slows on her enemies or charming forest creatures to fight her battles, she is never short of tools to win a fight.\n",
      "🛠 **Abilities**: Untouchable, Enchant, Nature's Attendants, Impetus\n",
      "🎭 **Role**: Support,Jungler,Pusher,Durable,Disabler\n",
      "📝 **Why this pick?**: Hero: Enchantress in Dota 2\n",
      "Abilities: Untouchable, Enchant, Nature's Attendants, Impetus\n",
      "Role: Support,Jungler,Pusher,Durable,Disabler\n",
      "Why is Enchantress a good here in Dota 2 game if your team has Axe, Dazzle and enemy's team has Pudge, Crystal Maiden? Probably because even if your mid has Doomfist and team is using the Doomfist to counter the ADC. With 3 enemy's out and no 1 jungle, the difference between a support and support team who have good early game AD can be hundreds of millions.\n",
      "Abilities: Enchantress, Nature's Attendants, Impetus, Desperado, Enchanted Titan\n",
      "Why it's good: The most powerful damage of any champion with an ungodly damage and it's the perfect support role for all your ADC heroes.\n",
      "When you play Dazzle, you're trying to defend your own base from\n",
      "\n",
      "🌟 **Earthshaker**: Whether blocking an enemy's escape, dividing their forces, or shattering the ground beneath gathered foes, Earthshaker is at his best when he strikes without warning. Whatever survives the aftershocks still has a swing from his mighty totem to look forward to.\n",
      "🛠 **Abilities**: Fissure, Enchant Totem, Aftershock, Echo Slam\n",
      "🎭 **Role**: Support,Initiator,Disabler,Nuker\n",
      "📝 **Why this pick?**: Hero: Earthshaker in Dota 2\n",
      "Abilities: Fissure, Enchant Totem, Aftershock, Echo Slam\n",
      "Role: Support,Initiator,Disabler,Nuker\n",
      "Why is Earthshaker a good here in Dota 2 game if your team has Axe, Dazzle and enemy's team has Pudge, Crystal Maiden? A good team can easily snowball your team into a situation where you can get past your opponent. In other words, if they are having problems, they have to learn how to play their game and go to face value, not simply get into a bad situation.\n",
      "\n",
      "\n",
      "In my opinion, Earthshaker is a very good lane pick. Its hard to be successful at this solo lane. To find a solid way to punish opponents that might not be well-positioned or to get the best out of your supports in teamfights, you need to always play your lane. A lot of times a lane swap will mean going on offense\n"
     ]
    }
   ],
   "source": [
    "\n",
    "sample_ally_picks = ['Axe', 'Dazzle']\n",
    "sample_enemy_picks = [\"Pudge\", 'Crystal Maiden']\n",
    "\n",
    "print(\"🔥 Testing Hero Recommendation with Ally and Enemy Picks...\")\n",
    "print(\"✅ Ally Picks:\", sample_ally_picks)\n",
    "print(\"❌ Enemy Picks:\", sample_enemy_picks)\n",
    "print(recommend_next_heroes(sample_ally_picks, sample_enemy_picks))"
   ]
  }
 ],
 "metadata": {
  "kernelspec": {
   "display_name": "Python 3",
   "language": "python",
   "name": "python3"
  },
  "language_info": {
   "codemirror_mode": {
    "name": "ipython",
    "version": 3
   },
   "file_extension": ".py",
   "mimetype": "text/x-python",
   "name": "python",
   "nbconvert_exporter": "python",
   "pygments_lexer": "ipython3",
   "version": "3.12.0"
  }
 },
 "nbformat": 4,
 "nbformat_minor": 2
}
